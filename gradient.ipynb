{
 "cells": [
  {
   "cell_type": "code",
   "execution_count": 64,
   "metadata": {},
   "outputs": [],
   "source": [
    "def mse(v1, v2):\n",
    "    return ((np.array(v1) - np.array(v2))**2).mean()"
   ]
  },
  {
   "cell_type": "code",
   "execution_count": 95,
   "metadata": {},
   "outputs": [],
   "source": [
    "class Regressor(object):\n",
    "    def __init__(self, lista_pesos, alpha,lambda_,x,y):\n",
    "        # Inicialitzem w0 i w1 (per ser ampliat amb altres w's)\n",
    "        self.lista_pesos = lista_pesos\n",
    "        self.lambda_=lambda_\n",
    "        self.alpha = alpha\n",
    "        self.x = x\n",
    "        self.y=y\n",
    "\n",
    "        \n",
    "    def predict(self, x):\n",
    "        return(sum([self.lista_pesos[i+1]*x[i] for i in range(len(x))])+self.lista_pesos[0])\n",
    "            \n",
    "    \n",
    "    def __update(self, hy, y,x):\n",
    "        self.lista_pesos[0]=self.lista_pesos[0]-self.alpha*(1/(len(y)))*(sum([hy[i]-y[i] for i in range (len(y))]))\n",
    "        for i in range(len(self.lista_pesos)-1):\n",
    "            self.lista_pesos[i+1]=self.lista_pesos[i+1]- self.alpha*((1/(len(y)))*((sum(([(hy[j]-y[j])*x[j][i]  for j in range (len(y))]))))-(self.lambda_/len(y))*self.lista_pesos[i+1])\n",
    "            \n",
    "        # actualitzar aqui els pesos donada la prediccio (hy) i la y real.\n",
    "        \n",
    "    \n",
    "    def train(self, max_iter, epsilon):\n",
    "        # Entrenar durant max_iter iteracions o fins que la millora sigui inferior a epsilon\n",
    "        for j in range(max_iter):\n",
    "            lista= (self.lista_pesos).copy()\n",
    "            ypred=[self.predict(self.x[i]) for i in range(len(self.x)) ]\n",
    "            self.__update(ypred,self.y,self.x)\n",
    "            if(mse(self.lista_pesos,lista)<epsilon ):\n",
    "                print(mse(self.lista_pesos,lista))\n",
    "                print(\"epsilooon\")\n",
    "                print(j)\n",
    "                break\n",
    "               \n",
    "        print(\"iteeeer\")"
   ]
  },
  {
   "cell_type": "code",
   "execution_count": 66,
   "metadata": {},
   "outputs": [
    {
     "name": "stdout",
     "output_type": "stream",
     "text": [
      "Dimensionalitat de la BBDD: (388, 12)\n",
      "Dimensionalitat de les entrades X (388, 11)\n",
      "Dimensionalitat de l'atribut Y (388,)\n",
      "Per comptar el nombre de valors no existents:\n",
      "distance           0\n",
      "consume            0\n",
      "speed              0\n",
      "temp_inside       12\n",
      "temp_outside       0\n",
      "specials         295\n",
      "gas_type           0\n",
      "AC                 0\n",
      "rain               0\n",
      "sun                0\n",
      "refill liters    375\n",
      "refill gas       375\n",
      "dtype: int64\n",
      "0.37914691943127965\n"
     ]
    }
   ],
   "source": [
    "from sklearn.datasets import make_regression\n",
    "import numpy as np\n",
    "import pandas as pd\n",
    "#matplotlib notebook\n",
    "from matplotlib import pyplot as plt\n",
    "import scipy.stats\n",
    "import math \n",
    "\n",
    "# Visualitzarem només 3 decimals per mostra\n",
    "pd.set_option('display.float_format', lambda x: '%.3f' % x)\n",
    "\n",
    "# Funcio per a llegir dades en format csv\n",
    "def load_dataset(path):\n",
    "    dataset = pd.read_csv(path, header=0, delimiter=',',decimal=',')\n",
    "    return dataset\n",
    "\n",
    "# Carreguem dataset d'exemple\n",
    "dataset = load_dataset('measurements.csv')\n",
    "data = dataset.values\n",
    "dataset.describe()\n",
    "x = dataset.drop(columns='consume')\n",
    "y = data[:, 1]\n",
    "print(\"Dimensionalitat de la BBDD:\", dataset.shape)\n",
    "print(\"Dimensionalitat de les entrades X\", x.shape)\n",
    "print(\"Dimensionalitat de l'atribut Y\", y.shape)\n",
    "\n",
    "print(\"Per comptar el nombre de valors no existents:\")\n",
    "print(dataset.isnull().sum())\n",
    "\n",
    "del(dataset['refill liters'])\n",
    "del(dataset['refill gas'])\n",
    "del(dataset['specials'])\n",
    "\n",
    "dataset.loc[dataset['gas_type'] == 'E10', \"gas_type\"] = 1\n",
    "dataset.loc[dataset['gas_type'] == 'SP98', \"gas_type\"] = 0\n",
    "\n",
    "dataset['temp_inside']=dataset['temp_inside'].fillna(dataset[\"temp_inside\"].mean())\n",
    "dataset['distance']=1/(dataset['distance'])\n",
    "#print(dataset['distance'])\n",
    "dataset['speed']=1/(dataset['speed'])\n",
    "dataset['time'] = dataset['distance']/dataset['speed']\n",
    "print(min(dataset['time']))\n",
    "x = dataset.drop(columns='consume')\n",
    "x = x.drop(columns='temp_inside')\n",
    "x = x.drop(columns='speed')\n",
    "x = x.drop(columns='sun')\n",
    "x = x.drop(columns='gas_type')\n",
    "x = x.drop(columns='time')\n",
    "x=x.values\n",
    "y = dataset.filter(['consume'])\n",
    "y=y.values\n"
   ]
  },
  {
   "cell_type": "code",
   "execution_count": 93,
   "metadata": {},
   "outputs": [],
   "source": [
    "def split_data(x, y, train_ratio=0.8):\n",
    "    np.random.seed(5)\n",
    "    indices = np.arange(x.shape[0])\n",
    "    np.random.shuffle(indices)\n",
    "    n_train = int(np.floor(x.shape[0]*train_ratio))\n",
    "    indices_train = indices[:n_train]\n",
    "    indices_val = indices[n_train:] \n",
    "    x_train = x[indices_train, :]\n",
    "    y_train = y[indices_train]\n",
    "    x_val = x[indices_val, :]\n",
    "    y_val = y[indices_val]\n",
    "    return x_train, y_train, x_val, y_val\n",
    "\n",
    "# Dividim dades d'entrenament\n"
   ]
  },
  {
   "cell_type": "code",
   "execution_count": 135,
   "metadata": {},
   "outputs": [
    {
     "name": "stdout",
     "output_type": "stream",
     "text": [
      "9.964394239545255e-08\n",
      "epsilooon\n",
      "384\n",
      "iteeeer\n"
     ]
    }
   ],
   "source": [
    "x_train, y_train, x_val, y_val = split_data(x, y)\n",
    "prueba=Regressor([5,8,0,1,1], 0.01,0.6,x_train,y_train)\n",
    "prueba.train(100000, 0.0000001)"
   ]
  },
  {
   "cell_type": "code",
   "execution_count": 136,
   "metadata": {},
   "outputs": [
    {
     "data": {
      "text/plain": [
       "[array([4.6695952]),\n",
       " array([8.02698696]),\n",
       " array([-0.04848573]),\n",
       " array([0.85831468]),\n",
       " array([0.74491467])]"
      ]
     },
     "execution_count": 136,
     "metadata": {},
     "output_type": "execute_result"
    }
   ],
   "source": [
    "prueba.lista_pesos"
   ]
  },
  {
   "cell_type": "code",
   "execution_count": 137,
   "metadata": {},
   "outputs": [
    {
     "name": "stdout",
     "output_type": "stream",
     "text": [
      "R2 score en atribut : 0.646013\n"
     ]
    }
   ],
   "source": [
    "from sklearn.metrics import r2_score\n",
    "r2 = r2_score(y_val,[prueba.predict(x_val[i]) for i in range(len(x_val)) ])\n",
    "print(\"R2 score en atribut : %f\" %(r2))"
   ]
  },
  {
   "cell_type": "code",
   "execution_count": null,
   "metadata": {},
   "outputs": [],
   "source": []
  }
 ],
 "metadata": {
  "kernelspec": {
   "display_name": "Python 3",
   "language": "python",
   "name": "python3"
  },
  "language_info": {
   "codemirror_mode": {
    "name": "ipython",
    "version": 3
   },
   "file_extension": ".py",
   "mimetype": "text/x-python",
   "name": "python",
   "nbconvert_exporter": "python",
   "pygments_lexer": "ipython3",
   "version": "3.7.3"
  }
 },
 "nbformat": 4,
 "nbformat_minor": 2
}
